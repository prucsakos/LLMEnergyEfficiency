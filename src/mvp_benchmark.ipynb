{
 "cells": [
  {
   "cell_type": "code",
   "execution_count": null,
   "id": "cc16c982",
   "metadata": {},
   "outputs": [],
   "source": [
    "\"\"\"\n",
    "Important note on benchmarks: Each dataset have its unique properties, evaluation methods\n",
    "and structure. Thats why each dataset used in the project shall have their unique adapters.\n",
    "\"\"\"\n",
    "\n",
    "# Data Load\n",
    "from datasets import load_dataset\n",
    "dataset = load_dataset(\"hotpotqa/hotpot_qa\", \"fullwiki\")"
   ]
  },
  {
   "cell_type": "code",
   "execution_count": null,
   "id": "6156799b",
   "metadata": {},
   "outputs": [],
   "source": [
    "# Model Load\n",
    "\n"
   ]
  },
  {
   "cell_type": "code",
   "execution_count": null,
   "id": "ae7b2a26",
   "metadata": {},
   "outputs": [],
   "source": [
    "# Custom Prompts\n",
    "\n"
   ]
  },
  {
   "cell_type": "code",
   "execution_count": null,
   "id": "927a13c2",
   "metadata": {},
   "outputs": [],
   "source": [
    "# Execute benchmarks\n",
    "\n"
   ]
  },
  {
   "cell_type": "code",
   "execution_count": null,
   "id": "95aabe0d",
   "metadata": {},
   "outputs": [],
   "source": [
    "# Mlflow logging / experiment tracking"
   ]
  }
 ],
 "metadata": {
  "kernelspec": {
   "display_name": "LLMEnergyEfficiency (3.12.11)",
   "language": "python",
   "name": "python3"
  },
  "language_info": {
   "name": "python",
   "version": "3.12.11"
  }
 },
 "nbformat": 4,
 "nbformat_minor": 5
}
